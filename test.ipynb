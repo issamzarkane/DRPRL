{
 "cells": [
  {
   "cell_type": "code",
   "execution_count": 1,
   "metadata": {},
   "outputs": [],
   "source": [
    "from drp import DRP"
   ]
  },
  {
   "cell_type": "code",
   "execution_count": 6,
   "metadata": {},
   "outputs": [],
   "source": [
    "excel_path = r\"C:\\Users\\issam\\OneDrive\\Desktop\\phd\\LearnAndFlyImplementation\\data\\StaticProblemInstances\\GroupA\\distancematrix_with_20_nodes(seconds).xlsx\""
   ]
  },
  {
   "cell_type": "code",
   "execution_count": 7,
   "metadata": {},
   "outputs": [
    {
     "name": "stderr",
     "output_type": "stream",
     "text": [
      "C:\\Users\\issam\\AppData\\Roaming\\Python\\Python311\\site-packages\\openpyxl\\worksheet\\header_footer.py:48: UserWarning: Cannot parse header or footer so it will be ignored\n",
      "  warn(\"\"\"Cannot parse header or footer so it will be ignored\"\"\")\n",
      "C:\\Users\\issam\\AppData\\Roaming\\Python\\Python311\\site-packages\\openpyxl\\worksheet\\header_footer.py:48: UserWarning: Cannot parse header or footer so it will be ignored\n",
      "  warn(\"\"\"Cannot parse header or footer so it will be ignored\"\"\")\n",
      "C:\\Users\\issam\\AppData\\Roaming\\Python\\Python311\\site-packages\\openpyxl\\worksheet\\header_footer.py:48: UserWarning: Cannot parse header or footer so it will be ignored\n",
      "  warn(\"\"\"Cannot parse header or footer so it will be ignored\"\"\")\n"
     ]
    },
    {
     "name": "stdout",
     "output_type": "stream",
     "text": [
      "Parsed sheet 'D1' from file 'C:\\Users\\issam\\OneDrive\\Desktop\\phd\\LearnAndFlyImplementation\\data\\StaticProblemInstances\\GroupA\\distancematrix_with_20_nodes(seconds).xlsx'\n",
      "Parsed sheet 'D2' from file 'C:\\Users\\issam\\OneDrive\\Desktop\\phd\\LearnAndFlyImplementation\\data\\StaticProblemInstances\\GroupA\\distancematrix_with_20_nodes(seconds).xlsx'\n",
      "Parsed sheet 'D3' from file 'C:\\Users\\issam\\OneDrive\\Desktop\\phd\\LearnAndFlyImplementation\\data\\StaticProblemInstances\\GroupA\\distancematrix_with_20_nodes(seconds).xlsx'\n"
     ]
    },
    {
     "name": "stderr",
     "output_type": "stream",
     "text": [
      "C:\\Users\\issam\\AppData\\Roaming\\Python\\Python311\\site-packages\\openpyxl\\worksheet\\header_footer.py:48: UserWarning: Cannot parse header or footer so it will be ignored\n",
      "  warn(\"\"\"Cannot parse header or footer so it will be ignored\"\"\")\n",
      "C:\\Users\\issam\\AppData\\Roaming\\Python\\Python311\\site-packages\\openpyxl\\worksheet\\header_footer.py:48: UserWarning: Cannot parse header or footer so it will be ignored\n",
      "  warn(\"\"\"Cannot parse header or footer so it will be ignored\"\"\")\n",
      "C:\\Users\\issam\\AppData\\Roaming\\Python\\Python311\\site-packages\\openpyxl\\worksheet\\header_footer.py:48: UserWarning: Cannot parse header or footer so it will be ignored\n",
      "  warn(\"\"\"Cannot parse header or footer so it will be ignored\"\"\")\n",
      "C:\\Users\\issam\\AppData\\Roaming\\Python\\Python311\\site-packages\\openpyxl\\worksheet\\header_footer.py:48: UserWarning: Cannot parse header or footer so it will be ignored\n",
      "  warn(\"\"\"Cannot parse header or footer so it will be ignored\"\"\")\n",
      "C:\\Users\\issam\\AppData\\Roaming\\Python\\Python311\\site-packages\\openpyxl\\worksheet\\header_footer.py:48: UserWarning: Cannot parse header or footer so it will be ignored\n",
      "  warn(\"\"\"Cannot parse header or footer so it will be ignored\"\"\")\n"
     ]
    },
    {
     "name": "stdout",
     "output_type": "stream",
     "text": [
      "Parsed sheet 'D4' from file 'C:\\Users\\issam\\OneDrive\\Desktop\\phd\\LearnAndFlyImplementation\\data\\StaticProblemInstances\\GroupA\\distancematrix_with_20_nodes(seconds).xlsx'\n",
      "Parsed sheet 'D5' from file 'C:\\Users\\issam\\OneDrive\\Desktop\\phd\\LearnAndFlyImplementation\\data\\StaticProblemInstances\\GroupA\\distancematrix_with_20_nodes(seconds).xlsx'\n",
      "Parsed sheet 'D6' from file 'C:\\Users\\issam\\OneDrive\\Desktop\\phd\\LearnAndFlyImplementation\\data\\StaticProblemInstances\\GroupA\\distancematrix_with_20_nodes(seconds).xlsx'\n",
      "Parsed sheet 'D7' from file 'C:\\Users\\issam\\OneDrive\\Desktop\\phd\\LearnAndFlyImplementation\\data\\StaticProblemInstances\\GroupA\\distancematrix_with_20_nodes(seconds).xlsx'\n",
      "Parsed sheet 'D8' from file 'C:\\Users\\issam\\OneDrive\\Desktop\\phd\\LearnAndFlyImplementation\\data\\StaticProblemInstances\\GroupA\\distancematrix_with_20_nodes(seconds).xlsx'\n"
     ]
    },
    {
     "name": "stderr",
     "output_type": "stream",
     "text": [
      "C:\\Users\\issam\\AppData\\Roaming\\Python\\Python311\\site-packages\\openpyxl\\worksheet\\header_footer.py:48: UserWarning: Cannot parse header or footer so it will be ignored\n",
      "  warn(\"\"\"Cannot parse header or footer so it will be ignored\"\"\")\n",
      "C:\\Users\\issam\\AppData\\Roaming\\Python\\Python311\\site-packages\\openpyxl\\worksheet\\header_footer.py:48: UserWarning: Cannot parse header or footer so it will be ignored\n",
      "  warn(\"\"\"Cannot parse header or footer so it will be ignored\"\"\")\n",
      "C:\\Users\\issam\\AppData\\Roaming\\Python\\Python311\\site-packages\\openpyxl\\worksheet\\header_footer.py:48: UserWarning: Cannot parse header or footer so it will be ignored\n",
      "  warn(\"\"\"Cannot parse header or footer so it will be ignored\"\"\")\n",
      "C:\\Users\\issam\\AppData\\Roaming\\Python\\Python311\\site-packages\\openpyxl\\worksheet\\header_footer.py:48: UserWarning: Cannot parse header or footer so it will be ignored\n",
      "  warn(\"\"\"Cannot parse header or footer so it will be ignored\"\"\")\n"
     ]
    },
    {
     "name": "stdout",
     "output_type": "stream",
     "text": [
      "Parsed sheet 'D9' from file 'C:\\Users\\issam\\OneDrive\\Desktop\\phd\\LearnAndFlyImplementation\\data\\StaticProblemInstances\\GroupA\\distancematrix_with_20_nodes(seconds).xlsx'\n",
      "Parsed sheet 'D10' from file 'C:\\Users\\issam\\OneDrive\\Desktop\\phd\\LearnAndFlyImplementation\\data\\StaticProblemInstances\\GroupA\\distancematrix_with_20_nodes(seconds).xlsx'\n",
      "Parsed sheet 'D11' from file 'C:\\Users\\issam\\OneDrive\\Desktop\\phd\\LearnAndFlyImplementation\\data\\StaticProblemInstances\\GroupA\\distancematrix_with_20_nodes(seconds).xlsx'\n",
      "Parsed sheet 'D12' from file 'C:\\Users\\issam\\OneDrive\\Desktop\\phd\\LearnAndFlyImplementation\\data\\StaticProblemInstances\\GroupA\\distancematrix_with_20_nodes(seconds).xlsx'\n"
     ]
    },
    {
     "name": "stderr",
     "output_type": "stream",
     "text": [
      "C:\\Users\\issam\\AppData\\Roaming\\Python\\Python311\\site-packages\\openpyxl\\worksheet\\header_footer.py:48: UserWarning: Cannot parse header or footer so it will be ignored\n",
      "  warn(\"\"\"Cannot parse header or footer so it will be ignored\"\"\")\n",
      "C:\\Users\\issam\\AppData\\Roaming\\Python\\Python311\\site-packages\\openpyxl\\worksheet\\header_footer.py:48: UserWarning: Cannot parse header or footer so it will be ignored\n",
      "  warn(\"\"\"Cannot parse header or footer so it will be ignored\"\"\")\n",
      "C:\\Users\\issam\\AppData\\Roaming\\Python\\Python311\\site-packages\\openpyxl\\worksheet\\header_footer.py:48: UserWarning: Cannot parse header or footer so it will be ignored\n",
      "  warn(\"\"\"Cannot parse header or footer so it will be ignored\"\"\")\n",
      "C:\\Users\\issam\\AppData\\Roaming\\Python\\Python311\\site-packages\\openpyxl\\worksheet\\header_footer.py:48: UserWarning: Cannot parse header or footer so it will be ignored\n",
      "  warn(\"\"\"Cannot parse header or footer so it will be ignored\"\"\")\n",
      "C:\\Users\\issam\\AppData\\Roaming\\Python\\Python311\\site-packages\\openpyxl\\worksheet\\header_footer.py:48: UserWarning: Cannot parse header or footer so it will be ignored\n",
      "  warn(\"\"\"Cannot parse header or footer so it will be ignored\"\"\")\n",
      "C:\\Users\\issam\\AppData\\Roaming\\Python\\Python311\\site-packages\\openpyxl\\worksheet\\header_footer.py:48: UserWarning: Cannot parse header or footer so it will be ignored\n",
      "  warn(\"\"\"Cannot parse header or footer so it will be ignored\"\"\")\n"
     ]
    },
    {
     "name": "stdout",
     "output_type": "stream",
     "text": [
      "Parsed sheet 'D13' from file 'C:\\Users\\issam\\OneDrive\\Desktop\\phd\\LearnAndFlyImplementation\\data\\StaticProblemInstances\\GroupA\\distancematrix_with_20_nodes(seconds).xlsx'\n",
      "Parsed sheet 'D14' from file 'C:\\Users\\issam\\OneDrive\\Desktop\\phd\\LearnAndFlyImplementation\\data\\StaticProblemInstances\\GroupA\\distancematrix_with_20_nodes(seconds).xlsx'\n",
      "Parsed sheet 'D15' from file 'C:\\Users\\issam\\OneDrive\\Desktop\\phd\\LearnAndFlyImplementation\\data\\StaticProblemInstances\\GroupA\\distancematrix_with_20_nodes(seconds).xlsx'\n",
      "Parsed sheet 'D16' from file 'C:\\Users\\issam\\OneDrive\\Desktop\\phd\\LearnAndFlyImplementation\\data\\StaticProblemInstances\\GroupA\\distancematrix_with_20_nodes(seconds).xlsx'\n",
      "Parsed sheet 'D17' from file 'C:\\Users\\issam\\OneDrive\\Desktop\\phd\\LearnAndFlyImplementation\\data\\StaticProblemInstances\\GroupA\\distancematrix_with_20_nodes(seconds).xlsx'\n",
      "Parsed sheet 'D18' from file 'C:\\Users\\issam\\OneDrive\\Desktop\\phd\\LearnAndFlyImplementation\\data\\StaticProblemInstances\\GroupA\\distancematrix_with_20_nodes(seconds).xlsx'\n",
      "Parsed sheet 'D19' from file 'C:\\Users\\issam\\OneDrive\\Desktop\\phd\\LearnAndFlyImplementation\\data\\StaticProblemInstances\\GroupA\\distancematrix_with_20_nodes(seconds).xlsx'\n",
      "Parsed sheet 'D20' from file 'C:\\Users\\issam\\OneDrive\\Desktop\\phd\\LearnAndFlyImplementation\\data\\StaticProblemInstances\\GroupA\\distancematrix_with_20_nodes(seconds).xlsx'\n"
     ]
    },
    {
     "name": "stderr",
     "output_type": "stream",
     "text": [
      "C:\\Users\\issam\\AppData\\Roaming\\Python\\Python311\\site-packages\\openpyxl\\worksheet\\header_footer.py:48: UserWarning: Cannot parse header or footer so it will be ignored\n",
      "  warn(\"\"\"Cannot parse header or footer so it will be ignored\"\"\")\n",
      "C:\\Users\\issam\\AppData\\Roaming\\Python\\Python311\\site-packages\\openpyxl\\worksheet\\header_footer.py:48: UserWarning: Cannot parse header or footer so it will be ignored\n",
      "  warn(\"\"\"Cannot parse header or footer so it will be ignored\"\"\")\n"
     ]
    }
   ],
   "source": [
    "drp = DRP(excel_path)"
   ]
  },
  {
   "cell_type": "code",
   "execution_count": 8,
   "metadata": {},
   "outputs": [
    {
     "ename": "TypeError",
     "evalue": "object of type 'int' has no len()",
     "output_type": "error",
     "traceback": [
      "\u001b[1;31m---------------------------------------------------------------------------\u001b[0m",
      "\u001b[1;31mTypeError\u001b[0m                                 Traceback (most recent call last)",
      "Cell \u001b[1;32mIn[8], line 3\u001b[0m\n\u001b[0;32m      1\u001b[0m instance \u001b[38;5;241m=\u001b[39m \u001b[38;5;241m1\u001b[39m \n\u001b[0;32m      2\u001b[0m route \u001b[38;5;241m=\u001b[39m [\u001b[38;5;241m0\u001b[39m,\u001b[38;5;241m5\u001b[39m,\u001b[38;5;241m20\u001b[39m,\u001b[38;5;241m10\u001b[39m,\u001b[38;5;241m15\u001b[39m]\n\u001b[1;32m----> 3\u001b[0m cost \u001b[38;5;241m=\u001b[39m \u001b[43mdrp\u001b[49m\u001b[38;5;241;43m.\u001b[39;49m\u001b[43mcalculate_route_cost\u001b[49m\u001b[43m(\u001b[49m\u001b[43mroute\u001b[49m\u001b[43m,\u001b[49m\u001b[43m \u001b[49m\u001b[43minstance\u001b[49m\u001b[43m)\u001b[49m\n\u001b[0;32m      4\u001b[0m is_feasible \u001b[38;5;241m=\u001b[39m drp\u001b[38;5;241m.\u001b[39mis_route_feasible(route, instance)\n",
      "File \u001b[1;32mc:\\Users\\issam\\OneDrive\\Desktop\\phd\\DRPRL\\drp.py:34\u001b[0m, in \u001b[0;36mDRP.calculate_route_cost\u001b[1;34m(self, instance, route)\u001b[0m\n\u001b[0;32m     32\u001b[0m \u001b[38;5;124;03m\"\"\"Calculate total travel time for a route\"\"\"\u001b[39;00m\n\u001b[0;32m     33\u001b[0m total_time \u001b[38;5;241m=\u001b[39m \u001b[38;5;241m0\u001b[39m\n\u001b[1;32m---> 34\u001b[0m \u001b[38;5;28;01mfor\u001b[39;00m i \u001b[38;5;129;01min\u001b[39;00m \u001b[38;5;28mrange\u001b[39m(\u001b[38;5;28;43mlen\u001b[39;49m\u001b[43m(\u001b[49m\u001b[43mroute\u001b[49m\u001b[43m)\u001b[49m\u001b[38;5;241m-\u001b[39m\u001b[38;5;241m1\u001b[39m):\n\u001b[0;32m     35\u001b[0m     total_time \u001b[38;5;241m+\u001b[39m\u001b[38;5;241m=\u001b[39m \u001b[38;5;28mself\u001b[39m\u001b[38;5;241m.\u001b[39mget_travel_time(instance, route[i], route[i\u001b[38;5;241m+\u001b[39m\u001b[38;5;241m1\u001b[39m])\n\u001b[0;32m     36\u001b[0m \u001b[38;5;28;01mreturn\u001b[39;00m total_time\n",
      "\u001b[1;31mTypeError\u001b[0m: object of type 'int' has no len()"
     ]
    }
   ],
   "source": [
    "instance = 1 \n",
    "route = [0,5,20,10,15]\n",
    "cost = drp.calculate_route_cost(instance, route)\n",
    "is_feasible = drp.is_route_feasible(instance, route)"
   ]
  }
 ],
 "metadata": {
  "kernelspec": {
   "display_name": "Python 3",
   "language": "python",
   "name": "python3"
  },
  "language_info": {
   "codemirror_mode": {
    "name": "ipython",
    "version": 3
   },
   "file_extension": ".py",
   "mimetype": "text/x-python",
   "name": "python",
   "nbconvert_exporter": "python",
   "pygments_lexer": "ipython3",
   "version": "3.11.1"
  }
 },
 "nbformat": 4,
 "nbformat_minor": 2
}
